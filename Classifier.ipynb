{
 "cells": [
  {
   "cell_type": "code",
   "execution_count": 16,
   "metadata": {},
   "outputs": [],
   "source": [
    "import numpy as np # linear algebra\n",
    "import pandas as pd # data processing, CSV file I/O (e.g. pd.read_csv)\n",
    "import matplotlib.pyplot as plt\n",
    "import seaborn as sns\n",
    "color = sns.color_palette()\n",
    "from scipy import stats\n",
    "from sklearn.cluster import KMeans\n",
    "import sklearn\n",
    "from sklearn.ensemble import RandomForestClassifier\n",
    "from sklearn.model_selection import learning_curve\n",
    "from sklearn.model_selection import train_test_split\n",
    "from sklearn.tree import export_graphviz\n",
    "from sklearn.metrics import classification_report\n",
    "from sklearn.linear_model import LogisticRegression\n",
    "from sklearn.model_selection import cross_val_score\n",
    "from sklearn.tree import DecisionTreeClassifier\n",
    "%matplotlib inline\n",
    "\n",
    "pd.options.mode.chained_assignment = None  # default='warn'"
   ]
  },
  {
   "cell_type": "code",
   "execution_count": 4,
   "metadata": {},
   "outputs": [],
   "source": [
    "df = pd.read_pickle('rentals.pkl')"
   ]
  },
  {
   "cell_type": "code",
   "execution_count": 5,
   "metadata": {},
   "outputs": [],
   "source": [
    "clean_df = df.drop(['building_id','created','district','description','display_address','features','listing_id',\n",
    "              'manager_id','date_created','photos','street_address'],axis=1)\n"
   ]
  },
  {
   "cell_type": "code",
   "execution_count": 6,
   "metadata": {},
   "outputs": [],
   "source": [
    "X = clean_df.drop(['interest_level'],axis=1)\n",
    "y = clean_df['interest_level']"
   ]
  },
  {
   "cell_type": "markdown",
   "metadata": {},
   "source": [
    "### Normalize"
   ]
  },
  {
   "cell_type": "code",
   "execution_count": 7,
   "metadata": {},
   "outputs": [
    {
     "data": {
      "text/html": [
       "<div>\n",
       "<style scoped>\n",
       "    .dataframe tbody tr th:only-of-type {\n",
       "        vertical-align: middle;\n",
       "    }\n",
       "\n",
       "    .dataframe tbody tr th {\n",
       "        vertical-align: top;\n",
       "    }\n",
       "\n",
       "    .dataframe thead th {\n",
       "        text-align: right;\n",
       "    }\n",
       "</style>\n",
       "<table border=\"1\" class=\"dataframe\">\n",
       "  <thead>\n",
       "    <tr style=\"text-align: right;\">\n",
       "      <th></th>\n",
       "      <th>bathrooms</th>\n",
       "      <th>bedrooms</th>\n",
       "      <th>latitude</th>\n",
       "      <th>longitude</th>\n",
       "      <th>price</th>\n",
       "      <th>cats</th>\n",
       "      <th>dogs</th>\n",
       "      <th>hardwood</th>\n",
       "      <th>prewar</th>\n",
       "      <th>terrace</th>\n",
       "      <th>...</th>\n",
       "      <th>cluster__3</th>\n",
       "      <th>cluster__4</th>\n",
       "      <th>cluster__5</th>\n",
       "      <th>cluster__6</th>\n",
       "      <th>cluster__7</th>\n",
       "      <th>cluster__8</th>\n",
       "      <th>cluster__9</th>\n",
       "      <th>in_manhattan</th>\n",
       "      <th>price_per_bathroom</th>\n",
       "      <th>price_per_bedroom</th>\n",
       "    </tr>\n",
       "  </thead>\n",
       "  <tbody>\n",
       "    <tr>\n",
       "      <th>10</th>\n",
       "      <td>0.15</td>\n",
       "      <td>0.375</td>\n",
       "      <td>0.418426</td>\n",
       "      <td>0.545038</td>\n",
       "      <td>0.000659</td>\n",
       "      <td>0.0</td>\n",
       "      <td>0.0</td>\n",
       "      <td>0.0</td>\n",
       "      <td>0.0</td>\n",
       "      <td>0.0</td>\n",
       "      <td>...</td>\n",
       "      <td>0.0</td>\n",
       "      <td>0.0</td>\n",
       "      <td>0.0</td>\n",
       "      <td>0.0</td>\n",
       "      <td>0.0</td>\n",
       "      <td>0.0</td>\n",
       "      <td>0.0</td>\n",
       "      <td>0.0</td>\n",
       "      <td>0.000436</td>\n",
       "      <td>0.000426</td>\n",
       "    </tr>\n",
       "    <tr>\n",
       "      <th>10000</th>\n",
       "      <td>0.10</td>\n",
       "      <td>0.250</td>\n",
       "      <td>0.674984</td>\n",
       "      <td>0.496811</td>\n",
       "      <td>0.001208</td>\n",
       "      <td>1.0</td>\n",
       "      <td>1.0</td>\n",
       "      <td>0.0</td>\n",
       "      <td>0.0</td>\n",
       "      <td>0.0</td>\n",
       "      <td>...</td>\n",
       "      <td>0.0</td>\n",
       "      <td>0.0</td>\n",
       "      <td>0.0</td>\n",
       "      <td>0.0</td>\n",
       "      <td>0.0</td>\n",
       "      <td>0.0</td>\n",
       "      <td>0.0</td>\n",
       "      <td>1.0</td>\n",
       "      <td>0.001208</td>\n",
       "      <td>0.001198</td>\n",
       "    </tr>\n",
       "    <tr>\n",
       "      <th>100004</th>\n",
       "      <td>0.10</td>\n",
       "      <td>0.125</td>\n",
       "      <td>0.496161</td>\n",
       "      <td>0.426863</td>\n",
       "      <td>0.000625</td>\n",
       "      <td>0.0</td>\n",
       "      <td>0.0</td>\n",
       "      <td>1.0</td>\n",
       "      <td>0.0</td>\n",
       "      <td>0.0</td>\n",
       "      <td>...</td>\n",
       "      <td>0.0</td>\n",
       "      <td>0.0</td>\n",
       "      <td>0.0</td>\n",
       "      <td>0.0</td>\n",
       "      <td>0.0</td>\n",
       "      <td>0.0</td>\n",
       "      <td>0.0</td>\n",
       "      <td>1.0</td>\n",
       "      <td>0.000625</td>\n",
       "      <td>0.001250</td>\n",
       "    </tr>\n",
       "    <tr>\n",
       "      <th>100007</th>\n",
       "      <td>0.10</td>\n",
       "      <td>0.125</td>\n",
       "      <td>0.544466</td>\n",
       "      <td>0.494819</td>\n",
       "      <td>0.000720</td>\n",
       "      <td>0.0</td>\n",
       "      <td>0.0</td>\n",
       "      <td>1.0</td>\n",
       "      <td>0.0</td>\n",
       "      <td>0.0</td>\n",
       "      <td>...</td>\n",
       "      <td>0.0</td>\n",
       "      <td>0.0</td>\n",
       "      <td>0.0</td>\n",
       "      <td>1.0</td>\n",
       "      <td>0.0</td>\n",
       "      <td>0.0</td>\n",
       "      <td>0.0</td>\n",
       "      <td>1.0</td>\n",
       "      <td>0.000720</td>\n",
       "      <td>0.001440</td>\n",
       "    </tr>\n",
       "    <tr>\n",
       "      <th>100013</th>\n",
       "      <td>0.10</td>\n",
       "      <td>0.500</td>\n",
       "      <td>0.769034</td>\n",
       "      <td>0.531487</td>\n",
       "      <td>0.000737</td>\n",
       "      <td>0.0</td>\n",
       "      <td>0.0</td>\n",
       "      <td>0.0</td>\n",
       "      <td>1.0</td>\n",
       "      <td>0.0</td>\n",
       "      <td>...</td>\n",
       "      <td>0.0</td>\n",
       "      <td>0.0</td>\n",
       "      <td>0.0</td>\n",
       "      <td>0.0</td>\n",
       "      <td>0.0</td>\n",
       "      <td>0.0</td>\n",
       "      <td>0.0</td>\n",
       "      <td>1.0</td>\n",
       "      <td>0.000737</td>\n",
       "      <td>0.000354</td>\n",
       "    </tr>\n",
       "  </tbody>\n",
       "</table>\n",
       "<p>5 rows × 42 columns</p>\n",
       "</div>"
      ],
      "text/plain": [
       "        bathrooms  bedrooms  latitude  longitude     price  cats  dogs  \\\n",
       "10           0.15     0.375  0.418426   0.545038  0.000659   0.0   0.0   \n",
       "10000        0.10     0.250  0.674984   0.496811  0.001208   1.0   1.0   \n",
       "100004       0.10     0.125  0.496161   0.426863  0.000625   0.0   0.0   \n",
       "100007       0.10     0.125  0.544466   0.494819  0.000720   0.0   0.0   \n",
       "100013       0.10     0.500  0.769034   0.531487  0.000737   0.0   0.0   \n",
       "\n",
       "        hardwood  prewar  terrace        ...          cluster__3  cluster__4  \\\n",
       "10           0.0     0.0      0.0        ...                 0.0         0.0   \n",
       "10000        0.0     0.0      0.0        ...                 0.0         0.0   \n",
       "100004       1.0     0.0      0.0        ...                 0.0         0.0   \n",
       "100007       1.0     0.0      0.0        ...                 0.0         0.0   \n",
       "100013       0.0     1.0      0.0        ...                 0.0         0.0   \n",
       "\n",
       "        cluster__5  cluster__6  cluster__7  cluster__8  cluster__9  \\\n",
       "10             0.0         0.0         0.0         0.0         0.0   \n",
       "10000          0.0         0.0         0.0         0.0         0.0   \n",
       "100004         0.0         0.0         0.0         0.0         0.0   \n",
       "100007         0.0         1.0         0.0         0.0         0.0   \n",
       "100013         0.0         0.0         0.0         0.0         0.0   \n",
       "\n",
       "        in_manhattan  price_per_bathroom  price_per_bedroom  \n",
       "10               0.0            0.000436           0.000426  \n",
       "10000            1.0            0.001208           0.001198  \n",
       "100004           1.0            0.000625           0.001250  \n",
       "100007           1.0            0.000720           0.001440  \n",
       "100013           1.0            0.000737           0.000354  \n",
       "\n",
       "[5 rows x 42 columns]"
      ]
     },
     "execution_count": 7,
     "metadata": {},
     "output_type": "execute_result"
    }
   ],
   "source": [
    "min_max_scaler = sklearn.preprocessing.MinMaxScaler()\n",
    "np_scaled = pd.DataFrame(min_max_scaler.fit_transform(X), columns=X.columns, index=X.index)\n",
    "X = pd.DataFrame(np_scaled)\n",
    "\n",
    "X.head()\n"
   ]
  },
  {
   "cell_type": "code",
   "execution_count": 18,
   "metadata": {},
   "outputs": [],
   "source": [
    "def feature_importances(x, top_N_features=7):\n",
    "    '''\n",
    "        x: zipped list of features returned from train function\n",
    "        top_N_featrs: max features to display\n",
    "    '''\n",
    "    labels = [x[n][0] for n in range(len(x))][-top_N_features:]\n",
    "    labels.append('Other')\n",
    "    values =[x[n][1] for n in range(len(x))][-top_N_features:]\n",
    "    values.append(1-sum(values))\n",
    "\n",
    "    fig1, ax1 = plt.subplots()\n",
    "    ax1.pie(values, labels=labels, autopct=None,\n",
    "            shadow=True, startangle=90)\n",
    "    ax1.axis('equal')  # Equal aspect ratio ensures that pie is drawn as a circle.\n",
    "    plt.legend(labels, loc='best', bbox_to_anchor=(-0.1, 1.),\n",
    "               fontsize=8)\n",
    "    plt.title(\"Features by importance\")\n",
    "    plt.show()"
   ]
  },
  {
   "cell_type": "code",
   "execution_count": 19,
   "metadata": {},
   "outputs": [],
   "source": [
    "def trainRFC(X,y,test_size=.25):\n",
    "    '''\n",
    "    params:\n",
    "        y: target column\n",
    "        X: training data \n",
    "    '''\n",
    "    X_train, X_test, y_train, y_test = train_test_split(X, y, test_size=test_size)\n",
    "    RFC = RandomForestClassifier()\n",
    "    RFC.fit(X_train, y_train)\n",
    "    display(\"Score: \",RFC.score(X_test,y_test))\n",
    "    features = zip(X.columns, RFC.feature_importances_)\n",
    "    features = sorted(features, key = lambda x:x[1])\n",
    "    return RFC,features"
   ]
  },
  {
   "cell_type": "code",
   "execution_count": 20,
   "metadata": {},
   "outputs": [],
   "source": [
    "def trainDecisionTree(X,y,test_size=.25):\n",
    "    '''\n",
    "    params:\n",
    "        y: target column\n",
    "        X: training data \n",
    "    '''\n",
    "    X_train, X_test, y_train, y_test = train_test_split(X, y, test_size=test_size)\n",
    "    CLF = DecisionTreeClassifier()\n",
    "    CLF.fit(X_train, y_train)\n",
    "    display(\"Score: \",CLF.score(X_test,y_test))\n",
    "    features = zip(X.columns, CLF.feature_importances_)\n",
    "    features = sorted(features, key = lambda x:x[1])\n",
    "    return CLF,features\n"
   ]
  },
  {
   "cell_type": "code",
   "execution_count": 38,
   "metadata": {},
   "outputs": [],
   "source": [
    "def trainLogisticRegressor(X,y,test_size=.25):\n",
    "    '''\n",
    "    params:\n",
    "        y: target column\n",
    "        X: training data \n",
    "    '''\n",
    "    X_train, X_test, y_train, y_test = train_test_split(X, y, test_size=test_size)\n",
    "    LogReg = LogisticRegression()\n",
    "    LogReg.fit(X_train, y_train)\n",
    "    display(\"Score: \",LogReg.score(X_test,y_test))\n",
    "    return LogReg\n"
   ]
  },
  {
   "cell_type": "markdown",
   "metadata": {},
   "source": [
    "## Decision Tree"
   ]
  },
  {
   "cell_type": "code",
   "execution_count": 43,
   "metadata": {
    "scrolled": true
   },
   "outputs": [
    {
     "data": {
      "text/plain": [
       "'Score: '"
      ]
     },
     "metadata": {},
     "output_type": "display_data"
    },
    {
     "data": {
      "text/plain": [
       "0.66208746545277186"
      ]
     },
     "metadata": {},
     "output_type": "display_data"
    },
    {
     "data": {
      "image/png": "[encoded data removed]",
      "text/plain": [
       "<matplotlib.figure.Figure at 0x7ff278b77588>"
      ]
     },
     "metadata": {},
     "output_type": "display_data"
    },
    {
     "name": "stdout",
     "output_type": "stream",
     "text": [
      "             precision    recall  f1-score   support\n",
      "\n",
      "       high       0.82      0.82      0.82       948\n",
      "        low       0.95      0.95      0.95      8515\n",
      "     medium       0.84      0.86      0.85      2839\n",
      "\n",
      "avg / total       0.92      0.92      0.92     12302\n",
      "\n"
     ]
    }
   ],
   "source": [
    "clf, feats  = trainDecisionTree(X,y)\n",
    "feature_importances(feats, 11)\n",
    "print(classification_report(y_test, clf.predict(X_test)))"
   ]
  },
  {
   "cell_type": "markdown",
   "metadata": {},
   "source": [
    "## Random Forest"
   ]
  },
  {
   "cell_type": "code",
   "execution_count": 44,
   "metadata": {},
   "outputs": [
    {
     "data": {
      "text/plain": [
       "'Score: '"
      ]
     },
     "metadata": {},
     "output_type": "display_data"
    },
    {
     "data": {
      "text/plain": [
       "0.72793041781824097"
      ]
     },
     "metadata": {},
     "output_type": "display_data"
    },
    {
     "data": {
      "image/png": "[encoded data removed]",
      "text/plain": [
       "<matplotlib.figure.Figure at 0x7ff27891f668>"
      ]
     },
     "metadata": {},
     "output_type": "display_data"
    },
    {
     "name": "stdout",
     "output_type": "stream",
     "text": [
      "             precision    recall  f1-score   support\n",
      "\n",
      "       high       0.88      0.79      0.83       948\n",
      "        low       0.93      0.98      0.95      8515\n",
      "     medium       0.89      0.78      0.83      2839\n",
      "\n",
      "avg / total       0.92      0.92      0.91     12302\n",
      "\n"
     ]
    }
   ],
   "source": [
    "rfc , feats  = trainRFC(X,y)\n",
    "feature_importances(feats, 12)\n",
    "print(classification_report(y_test, rfc.predict(X_test)))"
   ]
  },
  {
   "cell_type": "markdown",
   "metadata": {},
   "source": [
    "## Logistic Regression"
   ]
  },
  {
   "cell_type": "code",
   "execution_count": 46,
   "metadata": {},
   "outputs": [
    {
     "data": {
      "text/plain": [
       "'Score: '"
      ]
     },
     "metadata": {},
     "output_type": "display_data"
    },
    {
     "data": {
      "text/plain": [
       "0.69395220289383841"
      ]
     },
     "metadata": {},
     "output_type": "display_data"
    },
    {
     "name": "stdout",
     "output_type": "stream",
     "text": [
      "             precision    recall  f1-score   support\n",
      "\n",
      "       high       0.63      0.01      0.02       948\n",
      "        low       0.70      0.99      0.82      8515\n",
      "     medium       0.28      0.02      0.03      2839\n",
      "\n",
      "avg / total       0.59      0.69      0.57     12302\n",
      "\n"
     ]
    }
   ],
   "source": [
    "lr = trainLogisticRegressor(X,y)\n",
    "print(classification_report(y_test, lr.predict(X_test)))"
   ]
  },
  {
   "cell_type": "code",
   "execution_count": 49,
   "metadata": {},
   "outputs": [
    {
     "data": {
      "text/plain": [
       "['randomforest.pkl']"
      ]
     },
     "execution_count": 49,
     "metadata": {},
     "output_type": "execute_result"
    }
   ],
   "source": [
    "from sklearn.externals import joblib\n",
    "joblib.dump(clf, 'randomforest.pkl') "
   ]
  },
  {
   "cell_type": "code",
   "execution_count": null,
   "metadata": {},
   "outputs": [],
   "source": []
  },
  {
   "cell_type": "code",
   "execution_count": null,
   "metadata": {},
   "outputs": [],
   "source": []
  }
 ],
 "metadata": {
  "kernelspec": {
   "display_name": "Python 3",
   "language": "python",
   "name": "python3"
  },
  "language_info": {
   "codemirror_mode": {
    "name": "ipython",
    "version": 3
   },
   "file_extension": ".py",
   "mimetype": "text/x-python",
   "name": "python",
   "nbconvert_exporter": "python",
   "pygments_lexer": "ipython3",
   "version": "3.6.3"
  }
 },
 "nbformat": 4,
 "nbformat_minor": 2
}
